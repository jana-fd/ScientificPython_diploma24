{
 "cells": [
  {
   "cell_type": "markdown",
   "metadata": {},
   "source": [
    "#### **Exercise 1:**\n",
    "Create a function returning the first N terms of the tailor series of the function without using the sympy series function."
   ]
  },
  {
   "cell_type": "code",
   "execution_count": 28,
   "metadata": {},
   "outputs": [
    {
     "name": "stdout",
     "output_type": "stream",
     "text": [
      "None\n"
     ]
    }
   ],
   "source": [
    "import sympy as sp\n",
    "import math\n",
    "\n",
    "x, a = sp.symbols('x a')\n",
    "\n",
    "def taylor(N, fun):\n",
    "    expr = 0\n",
    "    for n in range(N):\n",
    "\n",
    "print(taylor(10,))\n"
   ]
  },
  {
   "cell_type": "markdown",
   "metadata": {},
   "source": [
    "#### **Exercise 2:**\n",
    "\n",
    "Write a matrix multiplication function using lists (\"manually\", using the matrix multiplication formula) and another one using numpy arrays (call matmul function). Time them both. "
   ]
  },
  {
   "cell_type": "code",
   "execution_count": 48,
   "metadata": {},
   "outputs": [
    {
     "name": "stdout",
     "output_type": "stream",
     "text": [
      "47 µs ± 2.92 µs per loop (mean ± std. dev. of 7 runs, 10,000 loops each)\n"
     ]
    }
   ],
   "source": [
    "%%timeit\n",
    "import numpy as np\n",
    "def matrix_multiplication(m1,m2):\n",
    "    size1 = m1.shape\n",
    "    size2 = m2.shape\n",
    "\n",
    "    m3 = np.zeros((size1[0],size2[1]))\n",
    "    if(size1[1] != size2[0]):\n",
    "        print('Cannot multiply the matrices')\n",
    "        return\n",
    "    for i in range(size1[0]):\n",
    "        for j in range(size2[1]):\n",
    "            for k in range(size2[0]):\n",
    "                m3[i,j] += m1[i,k]*m2[k,j]\n",
    "    return m3\n",
    "A = np.array([[1,77,3],[4,5,6],[7,8,9]])\n",
    "B = np.array([[2,23,49],[3,49,50],[23,4,56]])\n",
    "matrix_multiplication(A,B)\n",
    "#print(matrix_multiplication(A,B))\n",
    "    "
   ]
  },
  {
   "cell_type": "code",
   "execution_count": 47,
   "metadata": {},
   "outputs": [
    {
     "data": {
      "text/plain": [
       "array([[ 302, 3808, 4067],\n",
       "       [ 161,  361,  782],\n",
       "       [ 245,  589, 1247]])"
      ]
     },
     "execution_count": 47,
     "metadata": {},
     "output_type": "execute_result"
    }
   ],
   "source": [
    "%%timeit\n",
    "#using matmul \n",
    "A = np.array([[1,77,3],[4,5,6],[7,8,9]])\n",
    "B = np.array([[2,23,49],[3,49,50],[23,4,56]])\n",
    "np.matmul(A,B)"
   ]
  },
  {
   "cell_type": "markdown",
   "metadata": {},
   "source": [
    "#### **Execrise 3:**\n",
    "\n",
    "Consider the following example. Change functions in it to plot something different from `sin` in each panel. Add x and y labels to each panel. Experiment till this looks nice enough for an article. Save the output. "
   ]
  },
  {
   "cell_type": "code",
   "execution_count": 50,
   "metadata": {},
   "outputs": [
    {
     "ename": "ModuleNotFoundError",
     "evalue": "No module named 'matplotlib'",
     "output_type": "error",
     "traceback": [
      "\u001b[1;31m---------------------------------------------------------------------------\u001b[0m",
      "\u001b[1;31mModuleNotFoundError\u001b[0m                       Traceback (most recent call last)",
      "Cell \u001b[1;32mIn[50], line 2\u001b[0m\n\u001b[0;32m      1\u001b[0m \u001b[38;5;28;01mimport\u001b[39;00m \u001b[38;5;21;01mnumpy\u001b[39;00m \u001b[38;5;28;01mas\u001b[39;00m \u001b[38;5;21;01mnp\u001b[39;00m\n\u001b[1;32m----> 2\u001b[0m \u001b[38;5;28;01mfrom\u001b[39;00m \u001b[38;5;21;01mmatplotlib\u001b[39;00m \u001b[38;5;28;01mimport\u001b[39;00m pyplot \u001b[38;5;28;01mas\u001b[39;00m plt\n\u001b[0;32m      4\u001b[0m x \u001b[38;5;241m=\u001b[39m np\u001b[38;5;241m.\u001b[39mlinspace(\u001b[38;5;241m0\u001b[39m,\u001b[38;5;241m5\u001b[39m,\u001b[38;5;241m20\u001b[39m)\n\u001b[0;32m      5\u001b[0m y1 \u001b[38;5;241m=\u001b[39m np\u001b[38;5;241m.\u001b[39mtan(x)\n",
      "\u001b[1;31mModuleNotFoundError\u001b[0m: No module named 'matplotlib'"
     ]
    }
   ],
   "source": [
    "import numpy as np\n",
    "from matplotlib import pyplot as plt\n",
    "\n",
    "x = np.linspace(0,5,20)\n",
    "y1 = np.tan(x)\n",
    "y2 = np.tan(x + 0.2)\n",
    "y3 = np.tan(x + 0.4)\n",
    "y4 = np.tan(x + 0.6)\n",
    "y5 = np.tan(x + 0.8)\n",
    "y6 = np.tan(x + 1)\n",
    "\n",
    "# now we decide the actual figure size in inches\n",
    "fig = plt.figure(figsize=(14,7))\n",
    "\n",
    "plt.suptitle('Name of the whole picture',fontweight='bold', fontsize='x-large')\n",
    "plt.subplots_adjust(hspace=0.3, top=0.8) \n",
    "# create subplots 231 means make a 2x3 grid and this is the first plot\n",
    "plt.subplot(231)\n",
    "#these are here to show that you can do the same here as for a single plot\n",
    "plt.title('This is the name of one small picture',fontsize = 'large',fontstyle='italic',fontweight='bold')\n",
    "plt.ylabel('This is the $y$ axis',fontsize = 'xx-large',fontstyle='oblique',fontweight = 'heavy')\n",
    "plt.xlabel('This is the $x$ axis',fontsize = 'xx-large',fontstyle='normal',fontweight = 'medium')\n",
    "plt.plot(x,y1,color='r')\n",
    "\n",
    "plt.subplot(232)\n",
    "\n",
    "plt.plot(x,y2,color='g')\n",
    "plt.subplot(233)\n",
    "plt.plot(x,y3,color='b')\n",
    "plt.subplot(234)\n",
    "plt.plot(x,y4,color='y')\n",
    "plt.subplot(235)\n",
    "plt.plot(x,y5,color='c')\n",
    "plt.subplot(236)\n",
    "plt.plot(x,y6,color='m')\n",
    "# removed extra white space\n",
    "plt.tight_layout()\n",
    "#plt.show()"
   ]
  },
  {
   "cell_type": "markdown",
   "metadata": {},
   "source": [
    "#### **Exercise 4:**\n",
    "Plot the recaman sequence in the following way:\n",
    "\n",
    "Add a semi-circular arc from $a_{n}$ to $a_{n-1}$.\n",
    "\n",
    "Alternate the arcs to be above and below the x-axis according to whether\n",
    "    n is even or odd."
   ]
  },
  {
   "cell_type": "code",
   "execution_count": null,
   "metadata": {},
   "outputs": [],
   "source": []
  },
  {
   "cell_type": "markdown",
   "metadata": {},
   "source": [
    "#### **Exercise5:**\n",
    "\n",
    "Plot a rainbow. Use your imagination and google to make it beautiful."
   ]
  },
  {
   "cell_type": "markdown",
   "metadata": {},
   "source": [
    "#### **Exercise6**\n",
    "\n",
    "Plot a nice-looking 3-D torus. Do this 3 times with different styles. "
   ]
  },
  {
   "cell_type": "code",
   "execution_count": null,
   "metadata": {},
   "outputs": [],
   "source": []
  }
 ],
 "metadata": {
  "kernelspec": {
   "display_name": "Python 3 (ipykernel)",
   "language": "python",
   "name": "python3"
  },
  "language_info": {
   "codemirror_mode": {
    "name": "ipython",
    "version": 3
   },
   "file_extension": ".py",
   "mimetype": "text/x-python",
   "name": "python",
   "nbconvert_exporter": "python",
   "pygments_lexer": "ipython3",
   "version": "3.11.7"
  }
 },
 "nbformat": 4,
 "nbformat_minor": 4
}
